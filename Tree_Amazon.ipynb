{
  "nbformat": 4,
  "nbformat_minor": 0,
  "metadata": {
    "colab": {
      "name": "Tree Amazon.ipynb",
      "provenance": [],
      "collapsed_sections": [],
      "authorship_tag": "ABX9TyPfvGclpvpyhvYd0u/o3uVj",
      "include_colab_link": true
    },
    "kernelspec": {
      "name": "python3",
      "display_name": "Python 3"
    },
    "language_info": {
      "name": "python"
    }
  },
  "cells": [
    {
      "cell_type": "markdown",
      "metadata": {
        "id": "view-in-github",
        "colab_type": "text"
      },
      "source": [
        "<a href=\"https://colab.research.google.com/github/amitthakur2013/CODEVITA2K20/blob/master/Tree_Amazon.ipynb\" target=\"_parent\"><img src=\"https://colab.research.google.com/assets/colab-badge.svg\" alt=\"Open In Colab\"/></a>"
      ]
    },
    {
      "cell_type": "code",
      "metadata": {
        "colab": {
          "base_uri": "https://localhost:8080/"
        },
        "id": "mRIiy9kqeqvL",
        "outputId": "0ea9d05d-294f-45e0-c829-0143fbf72565"
      },
      "source": [
        "# Level Order Traversal of a tree\n",
        "\n",
        "class Node:\n",
        "  def __init__(self, key):\n",
        "    self.data=key\n",
        "    self.left=None\n",
        "    self.right=None\n",
        "\n",
        "def level_order(root):\n",
        "  if root is None: return\n",
        "\n",
        "  q=[]\n",
        "  q.append(root)\n",
        "\n",
        "  while(len(q)!=0):\n",
        "    d=q.pop(0)\n",
        "    print(d.data)\n",
        "    if d.left is not None:\n",
        "      q.append(d.left)\n",
        "    if d.right is not None:\n",
        "      q.append(d.right)\n",
        "\n",
        "root = Node(1)\n",
        "root.left = Node(2)\n",
        "root.right = Node(3)\n",
        "root.left.left = Node(4)\n",
        "root.left.right = Node(5)\n",
        "\n",
        "print(\"Level Order Traversal of binary tree is -\")\n",
        "level_order(root)"
      ],
      "execution_count": 8,
      "outputs": [
        {
          "output_type": "stream",
          "name": "stdout",
          "text": [
            "Level Order Traversal of binary tree is -\n",
            "1\n",
            "2\n",
            "3\n",
            "4\n",
            "5\n"
          ]
        }
      ]
    },
    {
      "cell_type": "code",
      "metadata": {
        "colab": {
          "base_uri": "https://localhost:8080/"
        },
        "id": "8S6Tmxb4gaPs",
        "outputId": "19c1494a-7fd5-4c2e-eb2b-00a453c79540"
      },
      "source": [
        "# Left View of a Binary Tree\n",
        "\n",
        "def left_view(root,level,prev_lev):\n",
        "  if root is None: return\n",
        "\n",
        "  if(prev_lev[0] < level ):\n",
        "    print(root.data)\n",
        "    prev_lev[0]=level \n",
        "  \n",
        "  left_view(root.left,level+1,prev_lev)\n",
        "  left_view(root.right,level+1,prev_lev)\n",
        "\n",
        "  \n",
        "\n",
        "root = Node(1)\n",
        "root.left = Node(2)\n",
        "root.right = Node(3)\n",
        "root.left.left = Node(4)\n",
        "root.left.right = Node(5)\n",
        "root.right.left = Node(6)\n",
        "print(\"Level Order Traversal of binary tree is -\")\n",
        "prev_lev=[0]\n",
        "left_view(root,1,prev_lev)"
      ],
      "execution_count": 7,
      "outputs": [
        {
          "output_type": "stream",
          "name": "stdout",
          "text": [
            "Level Order Traversal of binary tree is -\n",
            "1\n",
            "2\n",
            "4\n"
          ]
        }
      ]
    },
    {
      "cell_type": "code",
      "metadata": {
        "colab": {
          "base_uri": "https://localhost:8080/"
        },
        "id": "xc-zSqEolj8Z",
        "outputId": "5e7b239c-20a0-4464-f833-4d3db503018d"
      },
      "source": [
        "#Invert a binary tree\n",
        "\n",
        "def invert(root):\n",
        "  if root is None: return\n",
        "\n",
        "  invert(root.left)\n",
        "  invert(root.right)\n",
        "\n",
        "  temp=root.left\n",
        "  root.left=root.right\n",
        "  root.right=temp\n",
        "\n",
        "root = Node(1)\n",
        "root.left = Node(2)\n",
        "root.right = Node(3)\n",
        "root.left.left = Node(4)\n",
        "root.left.right = Node(5)\n",
        "invert(root)\n",
        "print(\"Level Order Traversal of binary tree is -\")\n",
        "level_order(root)"
      ],
      "execution_count": 13,
      "outputs": [
        {
          "output_type": "stream",
          "name": "stdout",
          "text": [
            "Level Order Traversal of binary tree is -\n",
            "1\n",
            "3\n",
            "2\n",
            "5\n",
            "4\n"
          ]
        }
      ]
    },
    {
      "cell_type": "code",
      "metadata": {
        "id": "498tF35Awjuk"
      },
      "source": [
        "# Diameter of a binary tree\n",
        "\n"
      ],
      "execution_count": null,
      "outputs": []
    },
    {
      "cell_type": "code",
      "metadata": {
        "colab": {
          "base_uri": "https://localhost:8080/"
        },
        "id": "HRgCIO5QE4Cl",
        "outputId": "645074d1-756f-4c38-e7b3-6455c3b8def0"
      },
      "source": [
        "n=int(input())\n",
        "\n",
        "l=[]\n",
        "for i in range(n):\n",
        "  l.append(int(input()))\n",
        "  \n",
        "res=0\n",
        "while(len(l)>=3):\n",
        "  n=len(l)\n",
        "  max_el=max(l)\n",
        "  i=l.index(max_el)\n",
        "\n",
        "  left_p=l[i]*l[(i+1)%n]*l[(i+2)%n]\n",
        "  right_p=l[i]*l[(i-1+n)%n]*l[(i-2+n)%n]\n",
        "  if(left_p>right_p):\n",
        "    res+=left_p\n",
        "    del l[(i+1)%n] \n",
        "  else:\n",
        "    res+=right_p\n",
        "    del l[(i-1+n)%n]\n",
        "print(res)\n",
        "\n",
        "\n",
        "\n",
        "  "
      ],
      "execution_count": 20,
      "outputs": [
        {
          "output_type": "stream",
          "name": "stdout",
          "text": [
            "6\n",
            "7\n",
            "2\n",
            "1\n",
            "6\n",
            "5\n",
            "4\n",
            "406\n"
          ]
        }
      ]
    },
    {
      "cell_type": "code",
      "metadata": {
        "colab": {
          "base_uri": "https://localhost:8080/"
        },
        "id": "_4NaH7ZNKfdB",
        "outputId": "bc459ce5-db11-47cd-f2c2-39adbc839cfa"
      },
      "source": [
        "n=int(input())\n",
        "\n",
        "l=[]\n",
        "for i in range(n):\n",
        "  l.append(int(input()))\n",
        "  \n",
        "res=0\n",
        "while(len(l)>=3):\n",
        "  n=len(l)\n",
        "  max_el=max(l)\n",
        "  i=l.index(max_el)\n",
        "  if(l[(i+1)%n] < l[(i-1+n)%n]):\n",
        "    res+=(l[i]*l[(i+1)%n]*l[(i+2)%n])\n",
        "    del l[(i+1)%n] \n",
        "  else:\n",
        "    res+=(l[i]*l[(i-1+n)%n]*l[(i-2+n)%n])\n",
        "    del l[(i-1+n)%n]\n",
        "print(res)\n",
        "\n"
      ],
      "execution_count": 23,
      "outputs": [
        {
          "output_type": "stream",
          "name": "stdout",
          "text": [
            "4\n",
            "3\n",
            "4\n",
            "5\n",
            "6\n",
            "192\n"
          ]
        }
      ]
    },
    {
      "cell_type": "code",
      "metadata": {
        "id": "DhZv34awgisC"
      },
      "source": [
        ""
      ],
      "execution_count": null,
      "outputs": []
    }
  ]
}